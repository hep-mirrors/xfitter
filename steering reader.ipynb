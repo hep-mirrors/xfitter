{
 "cells": [
  {
   "cell_type": "code",
   "execution_count": 9,
   "id": "527ee027",
   "metadata": {},
   "outputs": [],
   "source": [
    "import f90nml\n",
    "import json\n",
    "import numpy as np\n",
    "from xfitter_nml_to_json import *"
   ]
  },
  {
   "cell_type": "code",
   "execution_count": 2,
   "id": "98b309b0",
   "metadata": {},
   "outputs": [],
   "source": [
    "%load_ext autoreload\n",
    "%autoreload 2"
   ]
  },
  {
   "cell_type": "code",
   "execution_count": null,
   "id": "318ee0fa",
   "metadata": {},
   "outputs": [],
   "source": []
  },
  {
   "cell_type": "code",
   "execution_count": 93,
   "id": "61d90832",
   "metadata": {},
   "outputs": [
    {
     "name": "stdout",
     "output_type": "stream",
     "text": [
      "datafiles/hera/h1zeusCombined/inclusiveDis/1506.06042/HERA1+2_NCep_920-thexp.dat\n",
      "datafiles/hera/h1zeusCombined/inclusiveDis/1506.06042/HERA1+2_NCep_820-thexp.dat\n",
      "datafiles/hera/h1zeusCombined/inclusiveDis/1506.06042/HERA1+2_NCep_575-thexp.dat\n",
      "datafiles/hera/h1zeusCombined/inclusiveDis/1506.06042/HERA1+2_NCep_460-thexp.dat\n",
      "datafiles/hera/h1zeusCombined/inclusiveDis/1506.06042/HERA1+2_NCem-thexp.dat\n",
      "datafiles/hera/h1zeusCombined/inclusiveDis/1506.06042/HERA1+2_CCep-thexp.dat\n",
      "datafiles/hera/h1zeusCombined/inclusiveDis/1506.06042/HERA1+2_CCem-thexp.dat\n"
     ]
    }
   ],
   "source": [
    "nml = f90nml.read('steering.txt')\n",
    "\n",
    "cuts = read_cuts(nml)\n",
    "\n",
    "pyhf = dict()\n",
    "pyhf['channels']= []\n",
    "pyhf['observations'] = []\n",
    "\n",
    "if 'infiles' in nml:\n",
    "    fns = nml['infiles']['inputfilenames']\n",
    "    for i,f in enumerate(fns):\n",
    "        if 'intheory' in nml:\n",
    "            fth = nml['intheory']['InputTheoNames'][i]\n",
    "            valsTheo,nameTh = read_theo_file(fth)\n",
    "            theo = valsTheo[:,0]\n",
    "        else:\n",
    "            valsTheo,nameTh = None, None\n",
    "            theo = None\n",
    "        print (f)\n",
    "        name,reaction,vals,cname,ctype = read_data_file(f,cuts ,theo)\n",
    "        name,sample,observation = to_pyhf(name,reaction,vals,cname,ctype,valsTheo,nameTh)\n",
    "        pyhf['channels'].append({\"name\":name,\"samples\":[sample]})\n",
    "        pyhf['observations'].append(observation)"
   ]
  },
  {
   "cell_type": "code",
   "execution_count": 94,
   "id": "e4a80f98",
   "metadata": {},
   "outputs": [],
   "source": [
    "with open('tt.json', 'w') as fp:\n",
    "    json.dump(pyhf, fp,  indent=4)"
   ]
  },
  {
   "cell_type": "code",
   "execution_count": 92,
   "id": "5cedeba1",
   "metadata": {},
   "outputs": [
    {
     "data": {
      "text/plain": [
       "array([[ 1.2570000e+00,  2.1218160e-02],\n",
       "       [ 7.5820000e-01,  9.9096740e-03],\n",
       "       [ 2.5860000e-01,  1.5761670e-03],\n",
       "       [ 8.0080000e-02, -5.3741688e-05],\n",
       "       [ 4.2290000e-02, -1.7326213e-04],\n",
       "       [ 6.4510000e-01,  8.3927510e-03],\n",
       "       [ 2.3740000e-01,  1.3951998e-03],\n",
       "       [ 7.4910000e-02, -7.2924885e-05],\n",
       "       [ 3.9470000e-02, -1.7631249e-04],\n",
       "       [ 4.4160000e-01,  5.8335360e-03],\n",
       "       [ 1.8950000e-01,  1.0625265e-03],\n",
       "       [ 6.3640000e-02, -8.5977640e-05],\n",
       "       [ 3.3710000e-02, -1.6605546e-04],\n",
       "       [ 1.2710000e-02, -1.3841190e-04],\n",
       "       [ 1.5270000e-01,  8.4000270e-04],\n",
       "       [ 5.4560000e-02, -8.4295200e-05],\n",
       "       [ 2.9170000e-02, -1.5075056e-04],\n",
       "       [ 1.0950000e-02, -1.2318750e-04],\n",
       "       [ 3.7710000e-03, -6.9876630e-05],\n",
       "       [ 1.2520000e-01,  6.8547000e-04],\n",
       "       [ 4.7180000e-02, -7.8554700e-05],\n",
       "       [ 2.5490000e-02, -1.3575974e-04],\n",
       "       [ 9.5570000e-03, -1.0980993e-04],\n",
       "       [ 9.0890000e-02,  5.0425772e-04],\n",
       "       [ 3.6140000e-02, -6.5088140e-05],\n",
       "       [ 1.9930000e-02, -1.1013318e-04],\n",
       "       [ 7.4920000e-03, -8.8555440e-05],\n",
       "       [ 2.5230000e-03, -4.8744360e-05],\n",
       "       [ 2.2960000e-02, -4.3692880e-05],\n",
       "       [ 1.3090000e-02, -7.5018790e-05],\n",
       "       [ 4.9720000e-03, -6.0608680e-05],\n",
       "       [ 1.6510000e-03, -3.2772350e-05],\n",
       "       [ 1.2430000e-04, -4.1379470e-06],\n",
       "       [ 7.8910000e-03, -4.6304388e-05],\n",
       "       [ 3.0430000e-03, -3.8067930e-05],\n",
       "       [ 1.0000000e-03, -2.0310000e-05],\n",
       "       [ 7.3200000e-05, -2.4829440e-06],\n",
       "       [ 1.3300000e-03, -1.7130400e-05],\n",
       "       [ 4.3270000e-04, -9.0304490e-06],\n",
       "       [ 3.0580000e-05, -1.0608202e-06],\n",
       "       [ 1.4220000e-04, -3.0487680e-06],\n",
       "       [ 9.7080000e-06, -3.4434276e-07]])"
      ]
     },
     "execution_count": 92,
     "metadata": {},
     "output_type": "execute_result"
    }
   ],
   "source": [
    "valsTheo"
   ]
  },
  {
   "cell_type": "code",
   "execution_count": null,
   "id": "5f7f7243",
   "metadata": {},
   "outputs": [],
   "source": []
  }
 ],
 "metadata": {
  "kernelspec": {
   "display_name": "Python 3 (Belle2)",
   "language": "python",
   "name": "python3"
  },
  "language_info": {
   "codemirror_mode": {
    "name": "ipython",
    "version": 3
   },
   "file_extension": ".py",
   "mimetype": "text/x-python",
   "name": "python",
   "nbconvert_exporter": "python",
   "pygments_lexer": "ipython3",
   "version": "3.8.8"
  }
 },
 "nbformat": 4,
 "nbformat_minor": 5
}
